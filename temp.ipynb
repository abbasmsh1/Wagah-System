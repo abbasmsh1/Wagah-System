{
 "cells": [
  {
   "cell_type": "code",
   "execution_count": 2,
   "metadata": {},
   "outputs": [
    {
     "name": "stdout",
     "output_type": "stream",
     "text": [
      "Collecting schedule\n",
      "  Obtaining dependency information for schedule from https://files.pythonhosted.org/packages/20/a7/84c96b61fd13205f2cafbe263cdb2745965974bdf3e0078f121dfeca5f02/schedule-1.2.2-py3-none-any.whl.metadata\n",
      "  Downloading schedule-1.2.2-py3-none-any.whl.metadata (3.8 kB)\n",
      "Downloading schedule-1.2.2-py3-none-any.whl (12 kB)\n",
      "Installing collected packages: schedule\n",
      "Successfully installed schedule-1.2.2\n",
      "Note: you may need to restart the kernel to use updated packages.\n"
     ]
    },
    {
     "name": "stderr",
     "output_type": "stream",
     "text": [
      "WARNING: Ignoring invalid distribution -pencv-python (c:\\users\\abbas\\.conda\\envs\\uni\\lib\\site-packages)\n",
      "WARNING: Ignoring invalid distribution -pencv-python (c:\\users\\abbas\\.conda\\envs\\uni\\lib\\site-packages)\n"
     ]
    }
   ],
   "source": [
    "pip install schedule"
   ]
  },
  {
   "cell_type": "code",
   "execution_count": 4,
   "metadata": {},
   "outputs": [],
   "source": [
    "import os\n",
    "import time\n",
    "import schedule\n",
    "import sqlite3\n",
    "from datetime import datetime\n",
    "from sqlalchemy import create_engine, MetaData\n",
    "from sqlalchemy.orm import sessionmaker\n",
    "\n",
    "DATABASE_URL = \"sqlite:///./temp.db\"  # Update this URL to match your database\n",
    "BACKUP_DIR = 'backups'\n",
    "\n",
    "def get_engine():\n",
    "    return create_engine(DATABASE_URL)\n",
    "\n",
    "def backup_table(engine, table_name):\n",
    "    timestamp = datetime.now().strftime(\"%Y%m%d%H%M%S\")\n",
    "    backup_file = os.path.join(BACKUP_DIR, f\"{table_name}_backup_{timestamp}.sql\")\n",
    "\n",
    "    with sqlite3.connect(engine.url.database) as conn:\n",
    "        with open(backup_file, 'w') as f:\n",
    "            for line in conn.iterdump():\n",
    "                if line.startswith(f'INSERT INTO \"{table_name}\"'):\n",
    "                    f.write(f'{line}\\n')\n",
    "\n",
    "    print(f\"Backup for table {table_name} created at {backup_file}\")\n",
    "\n",
    "def backup_database():\n",
    "    if not os.path.exists(BACKUP_DIR):\n",
    "        os.makedirs(BACKUP_DIR)\n",
    "\n",
    "    engine = get_engine()\n",
    "    metadata = MetaData(bind=engine)\n",
    "    metadata.reflect()\n",
    "\n",
    "    for table_name in metadata.tables.keys():\n",
    "        backup_table(engine, table_name)\n",
    "\n",
    "schedule.every(5).minutes.do(backup_database)\n",
    "\n",
    "def run_scheduler():\n",
    "    while True:\n",
    "        schedule.run_pending()\n",
    "        time.sleep(1)\n",
    "\n",
    "def restore_table(engine, table_name, backup_file):\n",
    "    with sqlite3.connect(engine.url.database) as conn:\n",
    "        cursor = conn.cursor()\n",
    "        \n",
    "        # Remove existing data from the table\n",
    "        cursor.execute(f'DELETE FROM \"{table_name}\";')\n",
    "        \n",
    "        # Restore data from the backup file\n",
    "        with open(backup_file, 'r') as f:\n",
    "            sql_script = f.read()\n",
    "            conn.executescript(sql_script)\n",
    "\n",
    "    print(f\"Data for table {table_name} restored from {backup_file}\")\n"
   ]
  },
  {
   "cell_type": "code",
   "execution_count": null,
   "metadata": {},
   "outputs": [],
   "source": []
  }
 ],
 "metadata": {
  "kernelspec": {
   "display_name": "Uni",
   "language": "python",
   "name": "python3"
  },
  "language_info": {
   "codemirror_mode": {
    "name": "ipython",
    "version": 3
   },
   "file_extension": ".py",
   "mimetype": "text/x-python",
   "name": "python",
   "nbconvert_exporter": "python",
   "pygments_lexer": "ipython3",
   "version": "3.9.17"
  }
 },
 "nbformat": 4,
 "nbformat_minor": 2
}
