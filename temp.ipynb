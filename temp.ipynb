{
 "cells": [
  {
   "cell_type": "code",
   "execution_count": 1,
   "metadata": {},
   "outputs": [
    {
     "name": "stdout",
     "output_type": "stream",
     "text": [
      "20375024\n"
     ]
    }
   ],
   "source": [
    "def extract_sequence(string, indices):\n",
    "    return ''.join([string[i] for i in indices])\n",
    "\n",
    "# Example usage\n",
    "string = \"023650274221\"\n",
    "indices = [6, 5, 2, 7, 4, 0, 9, 8]\n",
    "\n",
    "extracted_sequence = extract_sequence(string, indices)\n",
    "print(extracted_sequence)\n"
   ]
  },
  {
   "cell_type": "code",
   "execution_count": null,
   "metadata": {},
   "outputs": [],
   "source": []
  }
 ],
 "metadata": {
  "kernelspec": {
   "display_name": "Uni",
   "language": "python",
   "name": "python3"
  },
  "language_info": {
   "codemirror_mode": {
    "name": "ipython",
    "version": 3
   },
   "file_extension": ".py",
   "mimetype": "text/x-python",
   "name": "python",
   "nbconvert_exporter": "python",
   "pygments_lexer": "ipython3",
   "version": "3.9.17"
  }
 },
 "nbformat": 4,
 "nbformat_minor": 2
}
